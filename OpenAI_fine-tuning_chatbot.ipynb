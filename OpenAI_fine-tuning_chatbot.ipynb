{
 "cells": [
  {
   "cell_type": "markdown",
   "id": "ae152dd2-70cd-466f-aa58-06933cb0367d",
   "metadata": {},
   "source": [
    "# 銀行AI客服\n",
    "## 先將QA轉成OpenAI所需要的jsonl檔案"
   ]
  },
  {
   "cell_type": "code",
   "execution_count": 18,
   "id": "0d2a411f-d1f3-4f1d-95ff-54ef87eb5bd4",
   "metadata": {},
   "outputs": [
    {
     "name": "stdout",
     "output_type": "stream",
     "text": [
      "JSONL 文件已创建: bank.jsonl\n"
     ]
    }
   ],
   "source": [
    "import json\n",
    "\n",
    "def convert_json_to_jsonl():\n",
    "    with open('bank.json', 'r', encoding='utf-8') as input_file:\n",
    "        input_json = json.load(input_file)\n",
    "        # Create JSONL output structure\n",
    "        output_jsonl_strs = []\n",
    "        # Add QA pairs to the output JSONL structure\n",
    "        for qa_pair in input_json[\"qa\"]:\n",
    "            system_message = \"你是使用繁體中文的銀行客服人員\"  # Define system message\n",
    "            messages = {\n",
    "                \"messages\": [ \n",
    "                    { \"role\": \"system\", \"content\": system_message },\n",
    "                    { \"role\": \"user\", \"content\": qa_pair[\"question\"] },\n",
    "                    { \"role\": \"assistant\", \"content\": qa_pair[\"answer\"] }\n",
    "                ]\n",
    "            }\n",
    "            output_jsonl_strs.append(json.dumps(messages, ensure_ascii=False))\n",
    "\n",
    "        # Write JSONL output to a file\n",
    "        output_jsonl_path = \"bank.jsonl\"\n",
    "        with open(output_jsonl_path, 'w', encoding='utf-8') as jsonl_file:\n",
    "            jsonl_file.write(\"\\n\".join(output_jsonl_strs))\n",
    "\n",
    "        return output_jsonl_path\n",
    "\n",
    "# 调用函数以执行转换并获得JSONL文件的路径\n",
    "jsonl_file_path = convert_json_to_jsonl()\n",
    "print(\"JSONL 文件已创建:\", jsonl_file_path)"
   ]
  },
  {
   "cell_type": "markdown",
   "id": "5b462aa7-7f3b-4fab-9699-22f0e792719e",
   "metadata": {},
   "source": [
    "## 使用openai_api_key創一個fine-tuning"
   ]
  },
  {
   "cell_type": "code",
   "execution_count": 22,
   "id": "1f463b37",
   "metadata": {},
   "outputs": [
    {
     "data": {
      "text/plain": [
       "FileObject(id='file-GAIdulYNQ5XrHEIm72QNAzmv', bytes=3864, created_at=1711949375, filename='bank.jsonl', object='file', purpose='fine-tune', status='processed', status_details=None)"
      ]
     },
     "execution_count": 22,
     "metadata": {},
     "output_type": "execute_result"
    }
   ],
   "source": [
    "from openai import OpenAI\n",
    "\n",
    "# OpenAI Key\n",
    "api_key = \"OPENAI_API_KEY\"\n",
    "client = OpenAI(api_key = api_key)\n",
    "# 創建一個fine tune\n",
    "client.files.create(\n",
    "  file=open(\"bank.jsonl\", \"rb\"),\n",
    "  purpose=\"fine-tune\"\n",
    ")"
   ]
  },
  {
   "cell_type": "code",
   "execution_count": 26,
   "id": "4c9ba2f9-dde7-40d8-8e2f-2452a5708e9d",
   "metadata": {},
   "outputs": [
    {
     "data": {
      "text/plain": [
       "FineTuningJob(id='ftjob-qMnEtsgEmOUT4TAFLFdJuN5M', created_at=1711949780, error=Error(code=None, message=None, param=None, error=None), fine_tuned_model=None, finished_at=None, hyperparameters=Hyperparameters(n_epochs='auto', batch_size='auto', learning_rate_multiplier='auto'), model='gpt-3.5-turbo-0125', object='fine_tuning.job', organization_id='org-yUQkTlPwsgEeOgYrl83isgyv', result_files=[], status='validating_files', trained_tokens=None, training_file='file-GAIdulYNQ5XrHEIm72QNAzmv', validation_file=None, user_provided_suffix=None)"
      ]
     },
     "execution_count": 26,
     "metadata": {},
     "output_type": "execute_result"
    }
   ],
   "source": [
    "# 選擇gpt-3.5-turbo model進行fine tune\n",
    "client.fine_tuning.jobs.create(\n",
    "  training_file=\"file-GAIdulYNQ5XrHEIm72QNAzmv\", \n",
    "  model=\"gpt-3.5-turbo\"\n",
    ")"
   ]
  },
  {
   "cell_type": "code",
   "execution_count": 38,
   "id": "c0d8b8a4-9718-47f2-92cd-f077d276a96f",
   "metadata": {},
   "outputs": [
    {
     "data": {
      "text/plain": [
       "FineTuningJob(id='ftjob-tjNE84jKqMX0HxCFz1f6auRa', created_at=1711950688, error=Error(code=None, message=None, param=None, error=None), fine_tuned_model=None, finished_at=None, hyperparameters=Hyperparameters(n_epochs=20, batch_size='auto', learning_rate_multiplier='auto'), model='gpt-3.5-turbo-0125', object='fine_tuning.job', organization_id='org-yUQkTlPwsgEeOgYrl83isgyv', result_files=[], status='validating_files', trained_tokens=None, training_file='file-GAIdulYNQ5XrHEIm72QNAzmv', validation_file=None, user_provided_suffix=None)"
      ]
     },
     "execution_count": 38,
     "metadata": {},
     "output_type": "execute_result"
    }
   ],
   "source": [
    "# 改超參數\n",
    "client.fine_tuning.jobs.create(\n",
    "  training_file=\"file-GAIdulYNQ5XrHEIm72QNAzmv\", \n",
    "  model=\"gpt-3.5-turbo\", \n",
    "  hyperparameters={\n",
    "    \"n_epochs\":20\n",
    "  }\n",
    ")"
   ]
  },
  {
   "cell_type": "code",
   "execution_count": 44,
   "id": "af5bd88b-fbaf-4195-b8ec-a6f5333f1c55",
   "metadata": {},
   "outputs": [
    {
     "data": {
      "text/plain": [
       "FineTuningJob(id='ftjob-tjNE84jKqMX0HxCFz1f6auRa', created_at=1711950688, error=Error(code=None, message=None, param=None, error=None), fine_tuned_model=None, finished_at=None, hyperparameters=Hyperparameters(n_epochs=20, batch_size=1, learning_rate_multiplier=2), model='gpt-3.5-turbo-0125', object='fine_tuning.job', organization_id='org-yUQkTlPwsgEeOgYrl83isgyv', result_files=[], status='running', trained_tokens=None, training_file='file-GAIdulYNQ5XrHEIm72QNAzmv', validation_file=None, user_provided_suffix=None)"
      ]
     },
     "execution_count": 44,
     "metadata": {},
     "output_type": "execute_result"
    }
   ],
   "source": [
    "# Retrieve the state of a fine-tune\n",
    "client.fine_tuning.jobs.retrieve(\"ftjob-tjNE84jKqMX0HxCFz1f6auRa\")"
   ]
  },
  {
   "cell_type": "code",
   "execution_count": 46,
   "id": "ee3470da-6d45-4c45-90b5-609e0aa752fd",
   "metadata": {},
   "outputs": [
    {
     "data": {
      "text/plain": [
       "SyncCursorPage[FineTuningJobEvent](data=[FineTuningJobEvent(id='ftevent-nGHZqrkq8Ee28s2hVYADzSXb', created_at=1711950986, level='info', message='Step 71/220: training loss=1.09', object='fine_tuning.job.event', data={'step': 71, 'train_loss': 1.0946775674819946, 'total_steps': 220, 'train_mean_token_accuracy': 0.7227723002433777}, type='metrics'), FineTuningJobEvent(id='ftevent-NNt9Q8jN0udkay06zq7I5wal', created_at=1711950959, level='info', message='Step 61/220: training loss=0.71', object='fine_tuning.job.event', data={'step': 61, 'train_loss': 0.7129967212677002, 'total_steps': 220, 'train_mean_token_accuracy': 0.761904776096344}, type='metrics'), FineTuningJobEvent(id='ftevent-VmvtHeNDVuk5cDnMs58GMxIu', created_at=1711950931, level='info', message='Step 51/220: training loss=0.54', object='fine_tuning.job.event', data={'step': 51, 'train_loss': 0.5435289144515991, 'total_steps': 220, 'train_mean_token_accuracy': 0.8113207817077637}, type='metrics'), FineTuningJobEvent(id='ftevent-ceL86zC7EJa0WZzOf0SygwTS', created_at=1711950903, level='info', message='Step 41/220: training loss=0.84', object='fine_tuning.job.event', data={'step': 41, 'train_loss': 0.8351899981498718, 'total_steps': 220, 'train_mean_token_accuracy': 0.782608687877655}, type='metrics'), FineTuningJobEvent(id='ftevent-ilZVdT29wAyo5LdnUQ39pZKH', created_at=1711950876, level='info', message='Step 31/220: training loss=1.25', object='fine_tuning.job.event', data={'step': 31, 'train_loss': 1.2525829076766968, 'total_steps': 220, 'train_mean_token_accuracy': 0.7402597665786743}, type='metrics'), FineTuningJobEvent(id='ftevent-cEk0alDLPImws4wLra95SdvR', created_at=1711950848, level='info', message='Step 21/220: training loss=0.82', object='fine_tuning.job.event', data={'step': 21, 'train_loss': 0.8207056522369385, 'total_steps': 220, 'train_mean_token_accuracy': 0.8064516186714172}, type='metrics'), FineTuningJobEvent(id='ftevent-IZBzsIoo0mJiBM7KKCNpKOyD', created_at=1711950819, level='info', message='Step 11/220: training loss=1.52', object='fine_tuning.job.event', data={'step': 11, 'train_loss': 1.522186040878296, 'total_steps': 220, 'train_mean_token_accuracy': 0.698113203048706}, type='metrics'), FineTuningJobEvent(id='ftevent-Jai974SsXpoHpRroFHUL3q6e', created_at=1711950791, level='info', message='Step 1/220: training loss=1.32', object='fine_tuning.job.event', data={'step': 1, 'train_loss': 1.3163560628890991, 'total_steps': 220, 'train_mean_token_accuracy': 0.7682926654815674}, type='metrics'), FineTuningJobEvent(id='ftevent-YYJ24YPqqbOcvtWkBwo8eSBg', created_at=1711950690, level='info', message='Fine-tuning job started', object='fine_tuning.job.event', data=None, type='message'), FineTuningJobEvent(id='ftevent-ER7nnqCLSf6RbHAyKQ1nQByC', created_at=1711950690, level='info', message='Files validated, moving job to queued state', object='fine_tuning.job.event', data={}, type='message')], object='list', has_more=True)"
      ]
     },
     "execution_count": 46,
     "metadata": {},
     "output_type": "execute_result"
    }
   ],
   "source": [
    "# 列出 10 個來自微調作業的事件\n",
    "client.fine_tuning.jobs.list_events(fine_tuning_job_id=\"ftjob-tjNE84jKqMX0HxCFz1f6auRa\", limit=10)"
   ]
  },
  {
   "cell_type": "markdown",
   "id": "2afeb00f-3c1c-4d9a-854c-8c31c84717c7",
   "metadata": {},
   "source": [
    "## 比較一般的 gpt-3.5-turbo 跟 fine-tuning 後的model"
   ]
  },
  {
   "cell_type": "code",
   "execution_count": 8,
   "id": "e4e70b9c-1228-40e4-9255-f9ad630aab6d",
   "metadata": {},
   "outputs": [],
   "source": [
    "completion = client.chat.completions.create(\n",
    "  model=\"gpt-3.5-turbo\",\n",
    "  messages=[\n",
    "    {\"role\": \"system\", \"content\": \"你是使用繁體中文的銀行客服人員\"},\n",
    "    {\"role\": \"user\", \"content\": \"晶片密碼輸入錯誤鎖卡怎麼辦?\"}\n",
    "  ]\n",
    ")"
   ]
  },
  {
   "cell_type": "code",
   "execution_count": 9,
   "id": "47a45666-ab1f-458d-8c7e-a665881ee1f2",
   "metadata": {},
   "outputs": [
    {
     "name": "stdout",
     "output_type": "stream",
     "text": [
      "如果您的晶片密碼輸入錯誤導致銀行卡被鎖卡，您可以通過以下方式解鎖：\n",
      "\n",
      "1. 聯繫您的銀行客服。您可以撥打銀行的客服電話號碼，向客服人員報告問題並請求協助解鎖您的銀行卡。\n",
      "\n",
      "2. 至銀行分行辦理。您也可以親自前往最近的銀行分行，與銀行職員溝通並提交申請進行解鎖手續。\n",
      "\n",
      "無論使用哪種方式，請準備好相應的身份證明文件以便確認您的身份。在解鎖銀行卡後，請注意謹慎管理您的晶片密碼，避免再次輸入錯誤而導致鎖卡情況發生。\n"
     ]
    }
   ],
   "source": [
    "print(completion.choices[0].message.content)"
   ]
  },
  {
   "cell_type": "code",
   "execution_count": 10,
   "id": "d6ce5642-d9eb-471f-96d0-c3548de830b3",
   "metadata": {},
   "outputs": [],
   "source": [
    "completion = client.chat.completions.create(\n",
    "  model=\"ft:gpt-3.5-turbo-0125:personal::9953NgaB\",\n",
    "  messages=[\n",
    "    {\"role\": \"system\", \"content\": \"你是使用繁體中文的銀行客服人員\"},\n",
    "    {\"role\": \"user\", \"content\": \"晶片密碼輸入錯誤鎖卡怎麼辦?\"}\n",
    "  ]\n",
    ")"
   ]
  },
  {
   "cell_type": "code",
   "execution_count": 11,
   "id": "018e5892-7a75-4838-9e31-f6e0f07cf80d",
   "metadata": {},
   "outputs": [
    {
     "name": "stdout",
     "output_type": "stream",
     "text": [
      "本人攜帶身份證.原留印鑑及本行金融卡至本行分行辦理密碼解鎖.\n"
     ]
    }
   ],
   "source": [
    "print(completion.choices[0].message.content)"
   ]
  },
  {
   "cell_type": "markdown",
   "id": "51456f84-be37-40c4-9563-1ee55f12af33",
   "metadata": {},
   "source": [
    "## 創建 chatbot"
   ]
  },
  {
   "cell_type": "code",
   "execution_count": 13,
   "id": "3efad90c-2f38-4c51-9171-695e6e876deb",
   "metadata": {},
   "outputs": [
    {
     "name": "stdin",
     "output_type": "stream",
     "text": [
      "You:  存摺遺失如何處理?\n"
     ]
    },
    {
     "name": "stdout",
     "output_type": "stream",
     "text": [
      "\n",
      "\n",
      "Bot: 存摺遺失無法掛失掛失,請本人攜帶身分證正本及原留印鑑向本行最接近您的分行辦理.\n",
      "\n",
      "\n"
     ]
    },
    {
     "name": "stdin",
     "output_type": "stream",
     "text": [
      "You:  晶片密碼輸入錯誤鎖卡怎麼辦?\n"
     ]
    },
    {
     "name": "stdout",
     "output_type": "stream",
     "text": [
      "\n",
      "\n",
      "Bot: 晶片密碼輸入3次錯誤即會鎖卡,請本人攜帶身分證正本及原留印鑑至本行任一分行申請密碼解鎖.\n",
      "\n",
      "\n"
     ]
    },
    {
     "name": "stdin",
     "output_type": "stream",
     "text": [
      "You:  \n"
     ]
    }
   ],
   "source": [
    "from openai import OpenAI\n",
    "# import gradio\n",
    "\n",
    "# OpenAI Key\n",
    "api_key = \"OPENAI_API_KEY\"\n",
    "\n",
    "client = OpenAI(\n",
    "    api_key = api_key\n",
    ")\n",
    "\n",
    "history = []\n",
    "\n",
    "system_msg = {\n",
    "    \"role\":\"system\",\n",
    "    \"content\":\"你是使用繁體中文的銀行客服人員\"\n",
    "}\n",
    "history.append(system_msg)\n",
    "\n",
    "def ask(question):\n",
    "    question_msg = {\n",
    "        \"role\":\"user\",\n",
    "        \"content\": question\n",
    "    }\n",
    "    history.append(question_msg)\n",
    "\n",
    "    response = client.chat.completions.create(\n",
    "    messages = history,\n",
    "    model = \"ft:gpt-3.5-turbo-0125:personal::9953NgaB\"\n",
    "    )\n",
    "    answer_msg = response.choices[0].message\n",
    "    history.append(answer_msg)\n",
    "    return answer_msg.content\n",
    "\n",
    "while True:\n",
    "    question = input(\"You: \")\n",
    "\n",
    "    if(question.strip() == ''):\n",
    "        break\n",
    "\n",
    "    answer = ask(question)\n",
    "    print('\\n')\n",
    "    print(f\"Bot: {answer}\")\n",
    "    print('\\n')\n",
    "\n",
    "# demo = gradio.Interface(fn=ask, inputs=\"text\", outputs=\"text\", title=\"銀行AI客服\")\n",
    "\n",
    "# demo.launch(share=True)"
   ]
  },
  {
   "cell_type": "code",
   "execution_count": null,
   "id": "b3cc2308-01e3-401d-b0f2-6ed63bd360cf",
   "metadata": {},
   "outputs": [],
   "source": []
  }
 ],
 "metadata": {
  "kernelspec": {
   "display_name": "Python 3",
   "language": "python",
   "name": "python3"
  },
  "language_info": {
   "codemirror_mode": {
    "name": "ipython",
    "version": 3
   },
   "file_extension": ".py",
   "mimetype": "text/x-python",
   "name": "python",
   "nbconvert_exporter": "python",
   "pygments_lexer": "ipython3",
   "version": "3.11.8"
  }
 },
 "nbformat": 4,
 "nbformat_minor": 5
}
